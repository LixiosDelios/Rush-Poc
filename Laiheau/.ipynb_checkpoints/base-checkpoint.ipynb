{
 "cells": [
  {
   "cell_type": "markdown",
   "metadata": {},
   "source": []
  },
  {
   "attachments": {},
   "cell_type": "markdown",
   "metadata": {},
   "source": [
    "# Policy-based method: REINFORCE\n",
    "\n",
    "Now that we've implemented a value-based algorithm, it's only right that we should try out a policy-based one as well, right ? So let's learn about REINFORCE !\n",
    "\n",
    "**Key facts**:\n",
    "- It was first defined in ['Simple Statistical Gradient-Following Algorithms for Connectionist Reinforcement Learning' by Ronald J. WILLIAMS in 1992](https://link.springer.com/content/pdf/10.1007/BF00992696.pdf?pdf=button).\n",
    "- It uses a **monte carlo** method\n",
    "\n",
    "### Monte Carlo\n",
    "\n",
    "As explained in the previous notebook, you can think of Monte Carlo as a method in which our agent learns after each episode instead of doing so at each time step like Temporal Difference.\n",
    "\n",
    "This implies that there is no need to estimate the target: we can compute the episodic reward for each timestep using the memory batch:\n",
    "\n",
    "![Monte Carlo formula](./assets/fig13.svg)\n",
    "\n",
    "Let's begin by implementing this formula !\n"
   ]
  },
  {
   "cell_type": "code",
   "execution_count": 81,
   "metadata": {},
   "outputs": [],
   "source": [
    "# Import necessary libraries\n",
    "import numpy as np\n",
    "\n",
    "import torch\n",
    "import torch.nn as nn\n",
    "import torch.nn.functional as F\n",
    "import torchvision\n",
    "\n",
    "import matplotlib.pyplot as plt\n",
    "from scipy.ndimage import gaussian_filter1d\n",
    "\n",
    "from IPython.display import clear_output\n",
    "\n",
    "\n",
    "# Set the learning rate and discount factor\n",
    "lr = 0.1\n",
    "gamma = 0.995\n",
    "eps = 1\n",
    "# Set the number of episodes to run\n",
    "episodes = 400\n"
   ]
  },
  {
   "cell_type": "code",
   "execution_count": 82,
   "metadata": {},
   "outputs": [
    {
     "name": "stdout",
     "output_type": "stream",
     "text": [
      "ok\n"
     ]
    }
   ],
   "source": [
    "import gym\n",
    "\n",
    "# Set the environment to use\n",
    "env_name = 'CarRacing-v2'\n",
    "# Create the environment\n",
    "env = gym.make(env_name, render_mode=\"rgb_array\", continuous=False)\n",
    "env.reset()\n",
    "print(\"ok\")"
   ]
  },
  {
   "cell_type": "code",
   "execution_count": 83,
   "metadata": {},
   "outputs": [
    {
     "name": "stdout",
     "output_type": "stream",
     "text": [
      "torch.Size([1, 96, 96])\n",
      "ok\n"
     ]
    },
    {
     "data": {
      "image/png": "[encoded data removed]",
      "text/plain": [
       "<Figure size 640x480 with 1 Axes>"
      ]
     },
     "metadata": {},
     "output_type": "display_data"
    }
   ],
   "source": [
    "env = gym.make(env_name, render_mode=\"rgb_array\", continuous=False)\n",
    "env.reset()\n",
    "for i in range(100):\n",
    "    new_state, reward, termination, truncation, _ = env.step(3)\n",
    "\n",
    "x = torch.tensor(new_state)\n",
    "x = x.permute(2, 0, 1)\n",
    "x = torchvision.transforms.functional.rgb_to_grayscale(x)\n",
    "print(x.shape)\n",
    "x = torchvision.transforms.functional.resize(x, [24, 24])\n",
    "plt.imshow(x.reshape((24, 24)), cmap='gray', vmin=0, vmax=255)\n",
    "\n",
    "env = gym.make(env_name, render_mode=\"rgb_array\", continuous=False)\n",
    "env.reset()\n",
    "print(\"ok\")"
   ]
  },
  {
   "cell_type": "code",
   "execution_count": 84,
   "metadata": {},
   "outputs": [],
   "source": [
    "device = torch.device(\"cuda:0\")\n",
    "boost = 16\n",
    "input_nbr = 12*12\n",
    "output_nbr = 4 #5\n",
    "import time\n",
    "# Define a neural network to model the policy\n",
    "class NeuralNetwork(nn.Module):\n",
    "    def __init__(self, env):\n",
    "        super().__init__()\n",
    "\n",
    "        self.total_epoch = 0\n",
    "        \n",
    "        self.conv1 = torch.nn.Conv2d(1, 1, 5, padding=2) # Add a conv2d with a kernel size equal to 5\n",
    "        self.maxpool1 = torch.nn.MaxPool2d(2, stride=2) # Add a MaxPool2d with kernel size and stride equal to 2\n",
    "        #self.conv2 = torch.nn.Conv2d(128, 256, 5, padding=2)# Add a conv2d with a kernel size equal to 5\n",
    "        #self.maxpool2 = torch.nn.MaxPool2d(2, stride=2) # Add a MaxPool2d with kernel size a\n",
    "        #self.conv3 = torch.nn.Conv2d(256, 4, 5, padding=2)# Add a conv2d with a kernel size equal to 5\n",
    "        #self.maxpool3 = torch.nn.MaxPool2d(2, stride=2) # Add a MaxPool2d with kernel size a\n",
    "        \n",
    "        # Create fully-connected layers with ReLU activations\n",
    "        self.fc1 = torch.nn.Linear(576, 32*boost).to(device)\n",
    "        self.fc2 = torch.nn.Linear(32*boost, 16*boost).to(device)\n",
    "        self.fc3 = torch.nn.Linear(16*boost, 8*boost).to(device)\n",
    "        self.fc4 = torch.nn.Linear(8*boost, output_nbr).to(device)\n",
    "        self.softmax = torch.nn.Softmax(dim=0).to(device)\n",
    "\n",
    "        self.actions, self.states, self.rewards = [], [], []\n",
    "        \n",
    "    def forward(self, x):\n",
    "        x = torch.tensor(x, dtype=torch.float32).to(device)\n",
    "        x = x.permute(2, 0, 1)\n",
    "        x = torchvision.transforms.functional.rgb_to_grayscale(x)\n",
    "        x = torchvision.transforms.functional.resize(x, [24, 24])\n",
    "        x = torch.nn.functional.relu(self.conv1(x))\n",
    "        x = self.maxpool1(x)\n",
    "        #x = torch.nn.functional.relu(self.conv2(x))\n",
    "        #x = self.maxpool2(x)\n",
    "        #x = torch.nn.functional.relu(self.conv3(x))\n",
    "        #x = self.maxpool3(x)\n",
    "        \n",
    "        x = x.reshape((-1,))\n",
    "        x = torch.nn.functional.relu(self.fc1(x))\n",
    "        x = torch.nn.functional.relu(self.fc2(x))\n",
    "        x = self.fc3(x) #x = torch.nn.functional.relu(self.fc3(x))\n",
    "        #x = self.fc4(x)\n",
    "        return self.softmax(x)\n",
    "\n",
    "network = NeuralNetwork(env).to(device)\n",
    "\n",
    "# Use Adam optimizer to optimize the neural network\n",
    "\n",
    "optim = torch.optim.AdamW(network.parameters(), lr=lr)"
   ]
  },
  {
   "cell_type": "code",
   "execution_count": 85,
   "metadata": {},
   "outputs": [
    {
     "data": {
      "text/plain": [
       "<matplotlib.image.AxesImage at 0x7f2f96a16990>"
      ]
     },
     "execution_count": 85,
     "metadata": {},
     "output_type": "execute_result"
    },
    {
     "data": {
      "image/png": "[encoded data removed]",
      "text/plain": [
       "<Figure size 640x480 with 1 Axes>"
      ]
     },
     "metadata": {},
     "output_type": "display_data"
    }
   ],
   "source": [
    "plt.imshow(env.render())"
   ]
  },
  {
   "cell_type": "code",
   "execution_count": 86,
   "metadata": {},
   "outputs": [],
   "source": [
    "# Import the deque class from the collections module\n",
    "from collections import deque\n",
    "\n",
    "# Initialize empty lists for rewards and losses\n",
    "recent_rewards = deque(maxlen=100)\n",
    "train_rewards = []\n",
    "train_loss = []\n",
    "\n",
    "# We will avoid rendering our environment during training: \n",
    "# it would tremendously slow down the process\n",
    "env = gym.make(env_name, continuous=False) "
   ]
  },
  {
   "cell_type": "code",
   "execution_count": 87,
   "metadata": {},
   "outputs": [],
   "source": [
    "from torch.distributions import Categorical\n",
    "\n",
    "def policy_action(self, state):\n",
    "    # Get the probabilities for each action, using the current state\n",
    "    x = self.forward(state)\n",
    "    # Create a distribution according to the probabilities\n",
    "    m = Categorical(x)\n",
    "    # Sample an action from the distribution\n",
    "    action = m.sample()\n",
    "    # Return the chosen action\n",
    "    return action.item()\n",
    "\n",
    "NeuralNetwork.policy_action = policy_action"
   ]
  },
  {
   "cell_type": "code",
   "execution_count": 88,
   "metadata": {},
   "outputs": [],
   "source": [
    "def remember(self, Action, State, Reward):\n",
    "    self.actions.append(Action)\n",
    "    self.states.append(State)\n",
    "    self.rewards.append(Reward)\n",
    "    \n",
    "NeuralNetwork.remember = remember"
   ]
  },
  {
   "cell_type": "code",
   "execution_count": 89,
   "metadata": {},
   "outputs": [
    {
     "data": {
      "text/plain": [
       "array([2.9602269 , 2.77409739, 2.1850225 , 2.0955    , 0.9       ])"
      ]
     },
     "execution_count": 89,
     "metadata": {},
     "output_type": "execute_result"
    }
   ],
   "source": [
    "def discount_rewards(self):\n",
    "    t_steps = np.arange(len(self.rewards))\n",
    "    r = self.rewards * gamma**t_steps\n",
    "    r = r[::-1].cumsum()[::-1] / gamma**t_steps\n",
    "    return r\n",
    "NeuralNetwork.discount_rewards = discount_rewards\n",
    "\n",
    "network.rewards = [0.2, 0.6, 0.1, 1.2, 0.9]\n",
    "network.discount_rewards()"
   ]
  },
  {
   "cell_type": "code",
   "execution_count": 90,
   "metadata": {},
   "outputs": [],
   "source": [
    "loss_list = []\n",
    "def gradient_ascent(self, discounted_rewards):\n",
    "    # Perform gradient ascent to update the probabilities in the distribution\n",
    "    #global loss_list\n",
    "    #loss_list = []\n",
    "    #print(discounted_rewards)\n",
    "    for State, Action, G in zip(self.states, self.actions, discounted_rewards):\n",
    "        # Get the probabilities for the current state\n",
    "        probs = network.forward(State)\n",
    "        \n",
    "        # Calculate the loss as the negative log probability of the chosen action\n",
    "        # multiplied by the discounted return\n",
    "        loss = G * (-Categorical(probs).log_prob(torch.tensor(Action).to(device)))\n",
    "        #loss_list.append(round(loss.item(), 5))\n",
    "        \n",
    "        # Clear the gradients, backpropagate the loss, and update the network parameters\n",
    "        optim.zero_grad()\n",
    "        loss.backward()    \n",
    "        optim.step()\n",
    "\n",
    "NeuralNetwork.gradient_ascent = gradient_ascent"
   ]
  },
  {
   "cell_type": "code",
   "execution_count": 91,
   "metadata": {
    "scrolled": true
   },
   "outputs": [
    {
     "name": "stdout",
     "output_type": "stream",
     "text": [
      "TE:4312 E:1 R:81.886 | [156, 141, 245, 286, 104] [11, 19, 21, 16, 0]\n"
     ]
    },
    {
     "ename": "KeyboardInterrupt",
     "evalue": "",
     "output_type": "error",
     "traceback": [
      "\u001b[0;31m---------------------------------------------------------------------------\u001b[0m",
      "\u001b[0;31mKeyboardInterrupt\u001b[0m                         Traceback (most recent call last)",
      "Cell \u001b[0;32mIn[91], line 34\u001b[0m\n\u001b[1;32m     32\u001b[0m p \u001b[38;5;241m=\u001b[39m np\u001b[38;5;241m.\u001b[39mrandom\u001b[38;5;241m.\u001b[39mrandom()\n\u001b[1;32m     33\u001b[0m \u001b[38;5;28;01mif\u001b[39;00m p \u001b[38;5;241m>\u001b[39m eps:\n\u001b[0;32m---> 34\u001b[0m     action \u001b[38;5;241m=\u001b[39m \u001b[43mnetwork\u001b[49m\u001b[38;5;241;43m.\u001b[39;49m\u001b[43mpolicy_action\u001b[49m\u001b[43m(\u001b[49m\u001b[43mstate\u001b[49m\u001b[43m)\u001b[49m\n\u001b[1;32m     35\u001b[0m     action_dict[action] \u001b[38;5;241m+\u001b[39m\u001b[38;5;241m=\u001b[39m \u001b[38;5;241m1\u001b[39m\n\u001b[1;32m     36\u001b[0m     \u001b[38;5;66;03m#print('n', end='')\u001b[39;00m\n\u001b[1;32m     37\u001b[0m \u001b[38;5;28;01melse\u001b[39;00m:\n",
      "Cell \u001b[0;32mIn[87], line 5\u001b[0m, in \u001b[0;36mpolicy_action\u001b[0;34m(self, state)\u001b[0m\n\u001b[1;32m      3\u001b[0m \u001b[38;5;28;01mdef\u001b[39;00m \u001b[38;5;21mpolicy_action\u001b[39m(\u001b[38;5;28mself\u001b[39m, state):\n\u001b[1;32m      4\u001b[0m     \u001b[38;5;66;03m# Get the probabilities for each action, using the current state\u001b[39;00m\n\u001b[0;32m----> 5\u001b[0m     x \u001b[38;5;241m=\u001b[39m \u001b[38;5;28;43mself\u001b[39;49m\u001b[38;5;241;43m.\u001b[39;49m\u001b[43mforward\u001b[49m\u001b[43m(\u001b[49m\u001b[43mstate\u001b[49m\u001b[43m)\u001b[49m\n\u001b[1;32m      6\u001b[0m     \u001b[38;5;66;03m# Create a distribution according to the probabilities\u001b[39;00m\n\u001b[1;32m      7\u001b[0m     m \u001b[38;5;241m=\u001b[39m Categorical(x)\n",
      "Cell \u001b[0;32mIn[84], line 32\u001b[0m, in \u001b[0;36mNeuralNetwork.forward\u001b[0;34m(self, x)\u001b[0m\n\u001b[1;32m     30\u001b[0m x \u001b[38;5;241m=\u001b[39m torch\u001b[38;5;241m.\u001b[39mtensor(x, dtype\u001b[38;5;241m=\u001b[39mtorch\u001b[38;5;241m.\u001b[39mfloat32)\u001b[38;5;241m.\u001b[39mto(device)\n\u001b[1;32m     31\u001b[0m x \u001b[38;5;241m=\u001b[39m x\u001b[38;5;241m.\u001b[39mpermute(\u001b[38;5;241m2\u001b[39m, \u001b[38;5;241m0\u001b[39m, \u001b[38;5;241m1\u001b[39m)\n\u001b[0;32m---> 32\u001b[0m x \u001b[38;5;241m=\u001b[39m \u001b[43mtorchvision\u001b[49m\u001b[38;5;241;43m.\u001b[39;49m\u001b[43mtransforms\u001b[49m\u001b[38;5;241;43m.\u001b[39;49m\u001b[43mfunctional\u001b[49m\u001b[38;5;241;43m.\u001b[39;49m\u001b[43mrgb_to_grayscale\u001b[49m\u001b[43m(\u001b[49m\u001b[43mx\u001b[49m\u001b[43m)\u001b[49m\n\u001b[1;32m     33\u001b[0m x \u001b[38;5;241m=\u001b[39m torchvision\u001b[38;5;241m.\u001b[39mtransforms\u001b[38;5;241m.\u001b[39mfunctional\u001b[38;5;241m.\u001b[39mresize(x, [\u001b[38;5;241m24\u001b[39m, \u001b[38;5;241m24\u001b[39m])\n\u001b[1;32m     34\u001b[0m x \u001b[38;5;241m=\u001b[39m torch\u001b[38;5;241m.\u001b[39mnn\u001b[38;5;241m.\u001b[39mfunctional\u001b[38;5;241m.\u001b[39mrelu(\u001b[38;5;28mself\u001b[39m\u001b[38;5;241m.\u001b[39mconv1(x))\n",
      "File \u001b[0;32m~/.local/lib/python3.11/site-packages/torchvision/transforms/functional.py:1276\u001b[0m, in \u001b[0;36mrgb_to_grayscale\u001b[0;34m(img, num_output_channels)\u001b[0m\n\u001b[1;32m   1273\u001b[0m \u001b[38;5;28;01mif\u001b[39;00m \u001b[38;5;129;01mnot\u001b[39;00m \u001b[38;5;28misinstance\u001b[39m(img, torch\u001b[38;5;241m.\u001b[39mTensor):\n\u001b[1;32m   1274\u001b[0m     \u001b[38;5;28;01mreturn\u001b[39;00m F_pil\u001b[38;5;241m.\u001b[39mto_grayscale(img, num_output_channels)\n\u001b[0;32m-> 1276\u001b[0m \u001b[38;5;28;01mreturn\u001b[39;00m \u001b[43mF_t\u001b[49m\u001b[38;5;241;43m.\u001b[39;49m\u001b[43mrgb_to_grayscale\u001b[49m\u001b[43m(\u001b[49m\u001b[43mimg\u001b[49m\u001b[43m,\u001b[49m\u001b[43m \u001b[49m\u001b[43mnum_output_channels\u001b[49m\u001b[43m)\u001b[49m\n",
      "File \u001b[0;32m~/.local/lib/python3.11/site-packages/torchvision/transforms/_functional_tensor.py:158\u001b[0m, in \u001b[0;36mrgb_to_grayscale\u001b[0;34m(img, num_output_channels)\u001b[0m\n\u001b[1;32m    155\u001b[0m     r, g, b \u001b[38;5;241m=\u001b[39m img\u001b[38;5;241m.\u001b[39munbind(dim\u001b[38;5;241m=\u001b[39m\u001b[38;5;241m-\u001b[39m\u001b[38;5;241m3\u001b[39m)\n\u001b[1;32m    156\u001b[0m     \u001b[38;5;66;03m# This implementation closely follows the TF one:\u001b[39;00m\n\u001b[1;32m    157\u001b[0m     \u001b[38;5;66;03m# https://github.com/tensorflow/tensorflow/blob/v2.3.0/tensorflow/python/ops/image_ops_impl.py#L2105-L2138\u001b[39;00m\n\u001b[0;32m--> 158\u001b[0m     l_img \u001b[38;5;241m=\u001b[39m \u001b[43m(\u001b[49m\u001b[38;5;241;43m0.2989\u001b[39;49m\u001b[43m \u001b[49m\u001b[38;5;241;43m*\u001b[39;49m\u001b[43m \u001b[49m\u001b[43mr\u001b[49m\u001b[43m \u001b[49m\u001b[38;5;241;43m+\u001b[39;49m\u001b[43m \u001b[49m\u001b[38;5;241;43m0.587\u001b[39;49m\u001b[43m \u001b[49m\u001b[38;5;241;43m*\u001b[39;49m\u001b[43m \u001b[49m\u001b[43mg\u001b[49m\u001b[43m \u001b[49m\u001b[38;5;241;43m+\u001b[39;49m\u001b[43m \u001b[49m\u001b[38;5;241;43m0.114\u001b[39;49m\u001b[43m \u001b[49m\u001b[38;5;241;43m*\u001b[39;49m\u001b[43m \u001b[49m\u001b[43mb\u001b[49m\u001b[43m)\u001b[49m\u001b[38;5;241;43m.\u001b[39;49m\u001b[43mto\u001b[49m\u001b[43m(\u001b[49m\u001b[43mimg\u001b[49m\u001b[38;5;241;43m.\u001b[39;49m\u001b[43mdtype\u001b[49m\u001b[43m)\u001b[49m\n\u001b[1;32m    159\u001b[0m     l_img \u001b[38;5;241m=\u001b[39m l_img\u001b[38;5;241m.\u001b[39munsqueeze(dim\u001b[38;5;241m=\u001b[39m\u001b[38;5;241m-\u001b[39m\u001b[38;5;241m3\u001b[39m)\n\u001b[1;32m    160\u001b[0m \u001b[38;5;28;01melse\u001b[39;00m:\n",
      "\u001b[0;31mKeyboardInterrupt\u001b[0m: "
     ]
    }
   ],
   "source": [
    "# Iterate over the number of episodes\n",
    "import time\n",
    "import os\n",
    "\n",
    "last_action = 0\n",
    "\n",
    "negative_count = 0\n",
    "\n",
    "env = gym.make(env_name, continuous=False, render_mode=\"rgb_array\")\n",
    "model_name = \"model_v1.967\"\n",
    "# best: model_v1.961\n",
    "while True:\n",
    "    eps = 0.05\n",
    "    if os.path.exists(model_name):\n",
    "        print(\"load\")\n",
    "        network = torch.load(model_name)\n",
    "        if not hasattr(network, 'total_epoch'):\n",
    "            network.total_epoch = 0\n",
    "        \n",
    "    \n",
    "    for episode in range(10):#episodes):\n",
    "        # Reset the environment and initialize empty lists for actions, states, and rewards\n",
    "        state, _  = env.reset()\n",
    "        network.actions, network.states, network.rewards = [], [], []\n",
    "    \n",
    "        # Train the agent for a single episode\n",
    "        action_dict = {0:0, 1:0, 2:0, 3:0, 4:0}\n",
    "        action_rand_dict = {0:0, 1:0, 2:0, 3:0, 4:0}\n",
    "        for i in range(1001):\n",
    "            action = 0#3 if episode % 5 == 0 else 0\n",
    "            if i > 0:\n",
    "                p = np.random.random()\n",
    "                if p > eps:\n",
    "                    action = network.policy_action(state)\n",
    "                    action_dict[action] += 1\n",
    "                    #print('n', end='')\n",
    "                else:\n",
    "                    action = np.random.choice(4)\n",
    "                    action_rand_dict[action] += 1\n",
    "                    #print('r', end='')\n",
    "                #eps = max(eps*0.99995, 0.05)\n",
    "\n",
    "            \n",
    "            # Take the action in the environment and get the new state, reward, and done flag\n",
    "            new_state, reward, termination, truncation, _ = env.step(action)\n",
    "            reward += 0.10001\n",
    "            \"\"\"\n",
    "            if reward <= 0.10001:\n",
    "                negative_count += 1\n",
    "                if negative_count > 30:\n",
    "                    #reward = -10\n",
    "                    termination = True\n",
    "            else:\n",
    "                negative_count = 0\n",
    "            \"\"\"\n",
    "            #print(reward)\n",
    "            # Save the action, state, and reward for later\n",
    "            network.remember(action, state, reward)\n",
    "            state = new_state\n",
    "    \n",
    "            # If the episode is done or the time limit is reached, stop training\n",
    "            if termination or truncation:\n",
    "                break\n",
    "        # Perform gradient ascent\n",
    "        network.gradient_ascent(network.discount_rewards())\n",
    "\n",
    "        network.total_epoch += 1\n",
    "        # Save the total reward for the episode and append it to the recent rewards queue\n",
    "        train_rewards.append(np.sum(network.rewards))\n",
    "        recent_rewards.append(train_rewards[-1])\n",
    "        # Print the mean recent reward every 50 episodes\n",
    "        if True:#episode % 10 == 0:\n",
    "            clear_output(wait=True)\n",
    "            print(f\"TE:{network.total_epoch} E:{episode} R:{np.mean(recent_rewards):>6.3f}\", end=\" | \")\n",
    "            print(list(action_dict.values()), list(action_rand_dict.values()))\n",
    "            #print(loss_list)\n",
    "        if np.mean(recent_rewards) > 400:\n",
    "            break\n",
    "    torch.save(network, model_name)\n",
    "    time.sleep(5)\n",
    "                    #none, left, right, gas, brake"
   ]
  },
  {
   "cell_type": "code",
   "execution_count": null,
   "metadata": {
    "scrolled": true
   },
   "outputs": [],
   "source": [
    "fig, ax = plt.subplots()\n",
    "\n",
    "ax.plot(train_rewards)\n",
    "ax.plot(gaussian_filter1d(train_rewards, sigma=20), linewidth=4)\n",
    "ax.set_title('Rewards')\n",
    "\n",
    "fig.show()\n",
    "print(f\"{1/10**5:.7f}\")"
   ]
  },
  {
   "attachments": {},
   "cell_type": "markdown",
   "metadata": {},
   "source": [
    "Finally, let's display five episodes of our trained agent to see how glorious it is:"
   ]
  },
  {
   "cell_type": "code",
   "execution_count": 92,
   "metadata": {},
   "outputs": [
    {
     "name": "stdout",
     "output_type": "stream",
     "text": [
      "999\n",
      "Reward: -27.67295597484275\n"
     ]
    }
   ],
   "source": [
    "env = gym.make(env_name, render_mode=\"human\", continuous=False)\n",
    "\n",
    "network = torch.load(model_name)\n",
    "negative_count = 0\n",
    "for _ in range(1):\n",
    "    Rewards = []\n",
    "    \n",
    "    state, _ = env.reset()\n",
    "    done = False\n",
    "    eps = 0.85\n",
    "    for i in range(1001):\n",
    "        clear_output(wait=True)\n",
    "        print(i)\n",
    "        # Calculate the probabilities of taking each action using the trained\n",
    "        # neural network\n",
    "        probs = network.forward(state)\n",
    "        \n",
    "        # Sample an action from the resulting distribution using the \n",
    "        # torch.distributions.Categorical() method\n",
    "        action = int(torch.distributions.Categorical(probs).sample())\n",
    "        \"\"\"\n",
    "        p = np.random.random()\n",
    "        if p < eps:\n",
    "            action = np.random.choice(4)\n",
    "        \"\"\"\n",
    "        new_state, reward, termination, truncation, _ = env.step(action)\n",
    "        \"\"\"\n",
    "        if reward < 0:\n",
    "            negative_count += 1\n",
    "            if negative_count > 30:\n",
    "                reward = -100\n",
    "                termination = True\n",
    "        else:\n",
    "            negative_count = 0\n",
    "        \"\"\"\n",
    "        state = new_state\n",
    "\n",
    "        Rewards.append(reward)\n",
    "\n",
    "        if termination or truncation:\n",
    "            break\n",
    "    \n",
    "    # Print the total rewards for the current episode\n",
    "    print(f'Reward: {sum(Rewards)}')\n",
    "\n",
    "# Close the environment\n",
    "env.close()"
   ]
  },
  {
   "cell_type": "code",
   "execution_count": null,
   "metadata": {},
   "outputs": [],
   "source": []
  }
 ],
 "metadata": {
  "kernelspec": {
   "display_name": "Python 3 (ipykernel)",
   "language": "python",
   "name": "python3"
  },
  "language_info": {
   "codemirror_mode": {
    "name": "ipython",
    "version": 3
   },
   "file_extension": ".py",
   "mimetype": "text/x-python",
   "name": "python",
   "nbconvert_exporter": "python",
   "pygments_lexer": "ipython3",
   "version": "3.11.7"
  },
  "vscode": {
   "interpreter": {
    "hash": "6b483bbea0ef867292651300ca303e9b91f9a0c7db919f54df8d16a1790f2d11"
   }
  }
 },
 "nbformat": 4,
 "nbformat_minor": 4
}
