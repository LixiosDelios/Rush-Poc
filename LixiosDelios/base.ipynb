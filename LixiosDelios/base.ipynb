{
 "cells": [
  {
   "cell_type": "markdown",
   "metadata": {},
   "source": []
  },
  {
   "attachments": {},
   "cell_type": "markdown",
   "metadata": {},
   "source": [
    "# Policy-based method: REINFORCE\n",
    "\n",
    "Now that we've implemented a value-based algorithm, it's only right that we should try out a policy-based one as well, right ? So let's learn about REINFORCE !\n",
    "\n",
    "**Key facts**:\n",
    "- It was first defined in ['Simple Statistical Gradient-Following Algorithms for Connectionist Reinforcement Learning' by Ronald J. WILLIAMS in 1992](https://link.springer.com/content/pdf/10.1007/BF00992696.pdf?pdf=button).\n",
    "- It uses a **monte carlo** method\n",
    "\n",
    "### Monte Carlo\n",
    "\n",
    "As explained in the previous notebook, you can think of Monte Carlo as a method in which our agent learns after each episode instead of doing so at each time step like Temporal Difference.\n",
    "\n",
    "This implies that there is no need to estimate the target: we can compute the episodic reward for each timestep using the memory batch:\n",
    "\n",
    "![Monte Carlo formula](./assets/fig13.svg)\n",
    "\n",
    "Let's begin by implementing this formula !\n"
   ]
  },
  {
   "cell_type": "code",
   "execution_count": 173,
   "metadata": {},
   "outputs": [],
   "source": [
    "# Import necessary libraries\n",
    "import numpy as np\n",
    "\n",
    "import torch\n",
    "import torch.nn as nn\n",
    "import torch.nn.functional as F\n",
    "import torchvision\n",
    "\n",
    "import matplotlib.pyplot as plt\n",
    "from scipy.ndimage import gaussian_filter1d\n",
    "\n",
    "# Set the learning rate and discount factor\n",
    "lr = 2e-4\n",
    "gamma = 0.99995\n",
    "\n",
    "# Set the number of episodes to run\n",
    "episodes = 1000\n"
   ]
  },
  {
   "cell_type": "code",
   "execution_count": 174,
   "metadata": {},
   "outputs": [],
   "source": [
    "import gym\n",
    "\n",
    "# Set the environment to use\n",
    "env_name = 'CarRacing-v2'\n",
    "# Create the environment\n",
    "env = gym.make(env_name, render_mode=\"rgb_array\", continuous=False)\n",
    "state, _ = env.reset()"
   ]
  },
  {
   "cell_type": "code",
   "execution_count": 175,
   "metadata": {},
   "outputs": [],
   "source": [
    "device = torch.device(\"cuda:0\")\n",
    "boost = 1\n",
    "input_nbr = 96*96\n",
    "output_nbr = 5\n",
    "transform = torchvision.transforms.Grayscale(1).to(device)\n",
    "size = 96\n",
    "# Define a neural network to model the policy\n",
    "class NeuralNetwork(nn.Module):\n",
    "    def __init__(self, env):\n",
    "        super().__init__()\n",
    "        self.epsilon = 1.\n",
    "\n",
    "        self.conv1 = torch.nn.Conv2d(1, 32, 4, stride=4).to(device)\n",
    "        self.conv2 = torch.nn.Conv2d(32, 64,4, stride=2).to(device)\n",
    "        self.conv3 = torch.nn.Conv2d(64, 64, 3, stride=1).to(device)\n",
    "\n",
    "        self.fc1 = torch.nn.Linear(5184 * boost, 512 * boost).to(device)\n",
    "        self.fc2 = torch.nn.Linear(512*boost, output_nbr).to(device)\n",
    "        self.softmax = torch.nn.Softmax(dim=0).to(device)\n",
    "\n",
    "        self.actions, self.states, self.rewards = [], [], []\n",
    "        \n",
    "    def forward(self, x):\n",
    "        x = transform(torch.tensor(x, dtype=torch.float32).permute(2, 0, 1)).reshape((1, 1, 96, 96)).to(device)\n",
    "        x = torch.nn.functional.relu(self.conv1(x)).to(device)\n",
    "        x = torch.nn.functional.relu(self.conv2(x)).to(device)\n",
    "        x = torch.nn.functional.relu(self.conv3(x)).to(device)\n",
    "        x = torch.nn.functional.relu(self.fc1(x.view(x.size(0), -1))).to(device)\n",
    "        x = self.fc2(x).to(device)\n",
    "        return self.softmax(x)\n",
    "\n",
    "network = NeuralNetwork(env).to(device)\n",
    "\n",
    "# Use Adam optimizer to optimize the neural network\n",
    "optim = torch.optim.SGD(network.parameters(), lr=lr, momentum=0.9)"
   ]
  },
  {
   "cell_type": "code",
   "execution_count": 176,
   "metadata": {},
   "outputs": [],
   "source": [
    "# Import the deque class from the collections module\n",
    "from collections import deque\n",
    "\n",
    "# Initialize empty lists for rewards and losses\n",
    "recent_rewards = deque(maxlen=10)\n",
    "train_rewards = []\n",
    "train_loss = []\n",
    "recent = deque(maxlen=100)\n",
    "\n",
    "# We will avoid rendering our environment during training: \n",
    "# it would tremendously slow down the process\n",
    "env = gym.make(env_name, continuous=False) "
   ]
  },
  {
   "cell_type": "code",
   "execution_count": 177,
   "metadata": {},
   "outputs": [],
   "source": [
    "from torch.distributions import Categorical\n",
    "\n",
    "def policy_action(self, state):\n",
    "    self.epsilon = np.max([self.epsilon * 0.995, 0.05])\n",
    "    if (self.epsilon> np.random.random()):\n",
    "        action = np.random.random_integers(0, 4)\n",
    "    else:\n",
    "        # Get the probabilities for each action, using the current state\n",
    "        x = self.forward(state)\n",
    "        # Create a distribution according to the probabilities\n",
    "        m = Categorical(x)\n",
    "        # Sample an action from the distribution\n",
    "        action = m.sample().item()\n",
    "        # Return the chosen action\n",
    "    return action\n",
    "\n",
    "NeuralNetwork.policy_action = policy_action"
   ]
  },
  {
   "cell_type": "code",
   "execution_count": 178,
   "metadata": {},
   "outputs": [],
   "source": [
    "def remember(self, Action, State, Reward):\n",
    "    self.actions.append(Action)\n",
    "    self.states.append(State)\n",
    "    self.rewards.append(Reward)\n",
    "    \n",
    "NeuralNetwork.remember = remember"
   ]
  },
  {
   "cell_type": "code",
   "execution_count": 179,
   "metadata": {},
   "outputs": [
    {
     "data": {
      "text/plain": [
       "array([2.99985 , 2.79986 , 2.19989 , 2.099895, 0.899955])"
      ]
     },
     "execution_count": 179,
     "metadata": {},
     "output_type": "execute_result"
    }
   ],
   "source": [
    "def discount_rewards(self):\n",
    "    ## Discount the returns using the discount factor\n",
    "    return np.cumsum(np.array(self.rewards[::-1])*gamma)[::-1]\n",
    "\n",
    "NeuralNetwork.discount_rewards = discount_rewards\n",
    "\n",
    "network.rewards = [0.2, 0.6, 0.1, 1.2, 0.9]\n",
    "network.discount_rewards()"
   ]
  },
  {
   "cell_type": "code",
   "execution_count": 180,
   "metadata": {},
   "outputs": [],
   "source": [
    "def gradient_ascent(self, discounted_rewards):\n",
    "    # Perform gradient ascent to update the probabilities in the distribution\n",
    "    for State, Action, G in zip(self.states, self.actions, discounted_rewards):\n",
    "        # Get the probabilities for the current state\n",
    "        probs = network.forward(State)\n",
    "        \n",
    "        # Calculate the loss as the negative log probability of the chosen action\n",
    "        # multiplied by the discounted return\n",
    "        loss = (G * (-Categorical(probs).log_prob(torch.tensor(Action).to(device))))\n",
    "\n",
    "        # Clear the gradients, backpropagate the loss, and update the network parameters\n",
    "        optim.zero_grad()\n",
    "        loss.backward()\n",
    "        optim.step()\n",
    "        \n",
    "        #\n",
    "\n",
    "NeuralNetwork.gradient_ascent = gradient_ascent"
   ]
  },
  {
   "cell_type": "code",
   "execution_count": 181,
   "metadata": {
    "scrolled": true
   },
   "outputs": [
    {
     "name": "stderr",
     "output_type": "stream",
     "text": [
      "/tmp/ipykernel_4253/3999467990.py:6: DeprecationWarning: This function is deprecated. Please call randint(0, 4 + 1) instead\n",
      "  action = np.random.random_integers(0, 4)\n"
     ]
    },
    {
     "name": "stdout",
     "output_type": "stream",
     "text": [
      "E:0 R:-1.441\n",
      "E:10 R:-3.159\n",
      "E:20 R:-2.330\n",
      "E:30 R:-3.239\n",
      "E:40 R:-2.018\n",
      "E:50 R:-2.919\n",
      "E:60 R:-1.947\n",
      "E:70 R:-2.202\n",
      "E:80 R:-1.705\n",
      "E:90 R:-0.586\n",
      "E:100 R:-2.549\n",
      "E:110 R:-2.310\n",
      "E:120 R:-2.429\n",
      "E:130 R:-2.532\n",
      "E:140 R:-3.139\n",
      "E:150 R:-2.408\n",
      "E:160 R:-1.732\n",
      "E:170 R:-2.220\n",
      "E:180 R:-2.084\n",
      "E:190 R:-2.019\n",
      "E:200 R:-1.969\n",
      "E:210 R:-1.691\n",
      "E:220 R:-2.424\n",
      "E:230 R:-1.905\n",
      "E:240 R:-2.703\n",
      "E:250 R:-2.051\n",
      "E:260 R:-2.479\n",
      "E:270 R:-3.120\n",
      "E:280 R:-3.253\n",
      "E:290 R:-0.823\n",
      "E:300 R:-1.939\n",
      "E:310 R:-2.455\n",
      "E:320 R:-3.044\n",
      "E:330 R:-2.750\n",
      "E:340 R:-2.237\n",
      "E:350 R:-2.192\n",
      "E:360 R:-1.054\n",
      "E:370 R:-2.330\n",
      "E:380 R:-1.670\n",
      "E:390 R:-2.637\n",
      "E:400 R:-1.912\n",
      "E:410 R:-1.646\n",
      "E:420 R:-1.201\n",
      "E:430 R:-2.272\n",
      "E:440 R:-1.348\n",
      "E:450 R:-2.320\n",
      "E:460 R:-1.908\n",
      "E:470 R:-1.258\n",
      "E:480 R:-2.760\n",
      "E:490 R:-1.557\n",
      "E:500 R:-2.849\n",
      "E:510 R:-2.447\n",
      "E:520 R:-1.285\n",
      "E:530 R:-1.505\n",
      "E:540 R:-1.998\n",
      "E:550 R:-2.108\n",
      "E:560 R:-1.645\n",
      "E:570 R:-3.288\n",
      "E:580 R:-2.359\n",
      "E:590 R:-2.137\n",
      "E:600 R:-2.368\n",
      "E:610 R:-1.235\n",
      "E:620 R:-2.266\n",
      "E:630 R:-3.575\n"
     ]
    }
   ],
   "source": [
    "# Iterate over the number of episodes\n",
    "import time\n",
    "frames = 150\n",
    "for episode in range(episodes):\n",
    "    # Reset the environment and initialize empty lists for actions, states, and rewards\n",
    "    state, _  = env.reset()\n",
    "    network.actions, network.states, network.rewards = [], [], []\n",
    "\n",
    "    # Train the agent for a single episode\n",
    "    \n",
    "    for frame in range(frames):\n",
    "        action = network.policy_action(state)\n",
    "        # Take the action in the environment and get the new state, reward, and done flag\n",
    "        new_state, reward, termination, truncation, _ = env.step(action)\n",
    "    \n",
    "        # Save the action, state, and reward for later\n",
    "        network.remember(action, state, reward)\n",
    "        state = new_state\n",
    "        # If the episode is done or the time limit is reached, stop training\n",
    "        if termination or truncation:\n",
    "            break\n",
    "    # Perform gradient ascent\n",
    "    network.gradient_ascent(network.discount_rewards())\n",
    "    # Save the total reward for the episode and append it to the recent rewards queue\n",
    "    train_rewards.append(np.sum(network.rewards))\n",
    "    recent_rewards.append(train_rewards[-1])\n",
    "\n",
    "    # Print the mean recent reward every 50 episodes\n",
    "    if episode % 10 == 0:\n",
    "        if np.mean(recent_rewards) > 0:\n",
    "            frames += 20\n",
    "        print(f\"E:{episode} R:{np.mean(recent_rewards):>6.3f}\")\n",
    "\n",
    "    if np.mean(recent_rewards) > 400:\n",
    "        break"
   ]
  },
  {
   "cell_type": "code",
   "execution_count": null,
   "metadata": {
    "scrolled": true
   },
   "outputs": [
    {
     "name": "stderr",
     "output_type": "stream",
     "text": [
      "/tmp/ipykernel_4231/3545735336.py:7: UserWarning: FigureCanvasAgg is non-interactive, and thus cannot be shown\n",
      "  fig.show()\n"
     ]
    },
    {
     "data": {
      "image/png": "[encoded data removed]",
      "text/plain": [
       "<Figure size 640x480 with 1 Axes>"
      ]
     },
     "metadata": {},
     "output_type": "display_data"
    }
   ],
   "source": [
    "fig, ax = plt.subplots()\n",
    "\n",
    "ax.plot(train_rewards)\n",
    "ax.plot(gaussian_filter1d(train_rewards, sigma=20), linewidth=4)\n",
    "ax.set_title('Rewards')\n",
    "\n",
    "fig.show()"
   ]
  },
  {
   "attachments": {},
   "cell_type": "markdown",
   "metadata": {},
   "source": [
    "Finally, let's display five episodes of our trained agent to see how glorious it is:"
   ]
  },
  {
   "cell_type": "code",
   "execution_count": null,
   "metadata": {},
   "outputs": [
    {
     "name": "stderr",
     "output_type": "stream",
     "text": [
      "/tmp/ipykernel_4231/3999467990.py:6: DeprecationWarning: This function is deprecated. Please call randint(0, 4 + 1) instead\n",
      "  action = np.random.random_integers(0, 4)\n"
     ]
    },
    {
     "name": "stdout",
     "output_type": "stream",
     "text": [
      "Reward: 48.60805860805854\n"
     ]
    }
   ],
   "source": [
    "env = gym.make(env_name, render_mode=\"human\", continuous=False)\n",
    "\n",
    "for _ in range(1):\n",
    "    Rewards = []\n",
    "    \n",
    "    state, _ = env.reset()\n",
    "    done = False\n",
    "    \n",
    "    for _ in range(frames):\n",
    "        # Calculate the probabilities of taking each action using the trained\n",
    "        # neural network\n",
    "        \n",
    "        # Sample an action from the resulting distribution using the \n",
    "        # torch.distributions.Categorical() method\n",
    "        action = network.policy_action(state)\n",
    "\n",
    "        new_state, reward, termination, truncation, _ = env.step(action)\n",
    "    \n",
    "        state = new_state\n",
    "\n",
    "        Rewards.append(reward)\n",
    "\n",
    "        if termination or truncation:\n",
    "            break\n",
    "    \n",
    "    # Print the total rewards for the current episode\n",
    "    print(f'Reward: {sum(Rewards)}')\n",
    "\n",
    "# Close the environment\n",
    "env.close()"
   ]
  },
  {
   "attachments": {},
   "cell_type": "markdown",
   "metadata": {},
   "source": [
    "Wow, you really did it ! You've succesfully implemented both a value-based and a policy-based method in reinforcement learning ! And, to top it all off, you even managed to solve CartPole using OpenAI Gym !\n",
    "\n",
    "If you're up for it, let's head over to section 2 and go **deeper** within the field of RL by returning to value-based methods and implementing the successor to Q-Learning, Deep Q Network, or DQN for short !\n",
    "\n",
    "Good luck !"
   ]
  },
  {
   "cell_type": "code",
   "execution_count": null,
   "metadata": {},
   "outputs": [],
   "source": []
  }
 ],
 "metadata": {
  "kernelspec": {
   "display_name": "Python 3 (ipykernel)",
   "language": "python",
   "name": "python3"
  },
  "language_info": {
   "codemirror_mode": {
    "name": "ipython",
    "version": 3
   },
   "file_extension": ".py",
   "mimetype": "text/x-python",
   "name": "python",
   "nbconvert_exporter": "python",
   "pygments_lexer": "ipython3",
   "version": "3.11.7"
  },
  "vscode": {
   "interpreter": {
    "hash": "6b483bbea0ef867292651300ca303e9b91f9a0c7db919f54df8d16a1790f2d11"
   }
  }
 },
 "nbformat": 4,
 "nbformat_minor": 4
}
